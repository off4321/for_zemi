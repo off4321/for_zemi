{
 "cells": [
  {
   "cell_type": "code",
   "execution_count": 2,
   "metadata": {},
   "outputs": [],
   "source": [
    "import pandas as pd"
   ]
  },
  {
   "cell_type": "code",
   "execution_count": 3,
   "metadata": {},
   "outputs": [],
   "source": [
    "pop_12 = pd.read_csv(\"/work/小泉ゼミ/卒論関係/元データ/移動人口/to_札幌/to_札幌12.csv\", encoding = \"shift_jis\")\n",
    "sum_pop = pd.read_csv(\"/work/小泉ゼミ/卒論関係/元データ/市町村_人口_12~20.csv\", encoding = \"shift_jis\")"
   ]
  },
  {
   "cell_type": "code",
   "execution_count": 20,
   "metadata": {},
   "outputs": [
    {
     "data": {
      "text/plain": [
       "'     def sort_select_rows1(self):\\n        for i in range(self._select_df.shape[0]):\\n            if (self._base_df.iloc[i, 0] != self._select_df.iloc[i, 0]): '"
      ]
     },
     "execution_count": 20,
     "metadata": {},
     "output_type": "execute_result"
    }
   ],
   "source": [
    "class df_custom:\n",
    "    def _init_(self, base_df, select_df):\n",
    "        self._base_df = base_df\n",
    "        self._select_df = select_df\n",
    "        \n",
    "    def drop_base_duplicated_area(self):\n",
    "        dup_area = [\"府中市\", \"伊達市\", \"小国町\", \"金山町\", \"川崎町\", \"清水町\", \"太子町\", \"高森町\", \"南部町\", \"日高町\", \"日野町\", \"美里町\", \"美里町\", \"美浜町\", \"森町\", \"朝日町\", \"池田町\", \"川西町\", \"広川町\", \"松前町\", \"明和町\", \"川上村\", \"昭和村\", \"高山村\", \"泊村\", \"南牧村\"]\n",
    "        dup_base_index = []\n",
    "        print(\"同一市区町村名を有する物を削除前の行列(base):\", self._base_df.shape)\n",
    "        for i in range(len(dup_area)):\n",
    "            if (self._base_df.iloc[:, 0] == dup_area[i]).any():\n",
    "                dup_base_index.extend(self._base_df.index[self._base_df.iloc[:, 0] == dup_area[i]])\n",
    "                continue\n",
    "        self._base_df = self._base_df.drop(dup_base_index)\n",
    "        self._base_df.reset_index(drop = True, inplace = True)\n",
    "        print(\"同一市区町村名を有する物を削除後の行列(base):\", self._base_df.shape)\n",
    "        \n",
    "    def drop_select_duplicated_area(self):\n",
    "        dup_area = [\"府中市\", \"伊達市\", \"小国町\", \"金山町\", \"川崎町\", \"清水町\", \"太子町\", \"高森町\", \"南部町\", \"日高町\", \"日野町\", \"美里町\", \"美里町\", \"美浜町\", \"森町\", \"朝日町\", \"池田町\", \"川西町\", \"広川町\", \"松前町\", \"明和町\", \"川上村\", \"昭和村\", \"高山村\", \"泊村\", \"南牧村\"]\n",
    "        dup_select_index = []\n",
    "        print(\"同一市区町村名を有する物を削除前の行列(select):\", self._select_df.shape)\n",
    "        for i in range(len(dup_area)):\n",
    "            if (self._select_df.iloc[:, 0] == dup_area[i]).any():\n",
    "                dup_select_index.extend(self._select_df.index[self._select_df.iloc[:, 0] == dup_area[i]])\n",
    "                continue\n",
    "        self._select_df = self._select_df.drop(dup_select_index)\n",
    "        self._select_df.reset_index(drop = True, inplace = True)\n",
    "        print(\"同一市区町村名を有する物を削除後の行列(select):\", self._select_df.shape)\n",
    "        \n",
    "    def delete_base_rows1(self):\n",
    "        print(\"削除前のbase_dfの行列:\", self._base_df.shape)\n",
    "        dropped_index = []\n",
    "        for i in range(self._base_df.shape[0]):\n",
    "            if (self._base_df.iloc[i, 0] != self._select_df.iloc[:, 0]).all():\n",
    "                dropped_index.append(i)\n",
    "                continue\n",
    "        self._base_df = self._base_df.drop(dropped_index)\n",
    "        self._base_df.reset_index(drop = True, inplace = True)\n",
    "        print(\"削除後のbase_dfの行列数:\", self._base_df.shape)\n",
    "        \n",
    "        \n",
    "    def delete_select_rows1(self):\n",
    "        print(\"削除前のselect_dfの行列:\", self._select_df.shape)\n",
    "        dropped_index = []\n",
    "        for i in range(self._select_df.shape[0]):\n",
    "            if (self._select_df.iloc[i, 0] != self._base_df.iloc[:, 0]).all():\n",
    "                dropped_index.append(i)\n",
    "                continue\n",
    "        self._select_df = self._select_df.drop(dropped_index)\n",
    "        self._select_df.reset_index(drop = True, inplace = True)\n",
    "        print(\"削除後のselect_dfの行列数:\", self._select_df.shape)\n",
    "        print(\"base_dfとselect_dfの行数:\", self._base_df.shape[0], self._select_df.shape[0])\n",
    "        \n",
    "    def df_join(self):\n",
    "        if (self._base_df.iloc[:, 0] == self._select_df.iloc[:, 0]).all():\n",
    "            self._base_df = self._base_df.join([self._select_df])\n",
    "        else:\n",
    "            print(\"2つのdfの0列目は一致していません。\")\n",
    "        \n",
    "    def out_csv(self):\n",
    "        csv_name = input(\"csvファイルの名前を入力してください\")\n",
    "        self._base_df.to_csv(csv_name, encoding= \"shift_jis\", index = None)\n",
    "        print(\"{}は出力されました。\".format(csv_name))\n",
    "\n",
    "\"\"\"     def sort_select_rows1(self):\n",
    "        for i in range(self._select_df.shape[0]):\n",
    "            if (self._base_df.iloc[i, 0] != self._select_df.iloc[i, 0]): \"\"\""
   ]
  },
  {
   "cell_type": "code",
   "execution_count": 21,
   "metadata": {},
   "outputs": [],
   "source": [
    "def delete_join(df):\n",
    "    df.drop_base_duplicated_area()\n",
    "    df.drop_select_duplicated_area()\n",
    "    df.delete_base_rows1()\n",
    "    df.delete_select_rows1()\n",
    "    join_judgment = input(\"結合する？:y or n\")\n",
    "    if (join_judgment == \"y\"):\n",
    "        df.df_join()\n",
    "    else:\n",
    "        print(\"結合はしませんでした\")\n",
    "    csv_judgment = input(\"csvに出力する？:y or n\")\n",
    "    if (csv_judgment == \"y\"):\n",
    "        df.out_csv()\n",
    "    else:\n",
    "        print(\"csv出力はしませんでした\")"
   ]
  },
  {
   "cell_type": "code",
   "execution_count": 22,
   "metadata": {},
   "outputs": [
    {
     "name": "stdout",
     "output_type": "stream",
     "text": [
      "同一市区町村名を有する物を削除前の行列(base): (513, 28)\n",
      "同一市区町村名を有する物を削除後の行列(base): (505, 28)\n",
      "同一市区町村名を有する物を削除前の行列(select): (1741, 10)\n",
      "同一市区町村名を有する物を削除後の行列(select): (1686, 10)\n",
      "削除前のbase_dfの行列: (505, 28)\n",
      "削除後のbase_dfの行列数: (454, 28)\n",
      "削除前のselect_dfの行列: (1686, 10)\n",
      "削除後のselect_dfの行列数: (454, 10)\n",
      "base_dfとselect_dfの行数: 454 454\n",
      "test2.csvは出力されました。\n"
     ]
    }
   ],
   "source": [
    "Y_12_1 = df_custom()\n",
    "Y_12_1._base_df = pop_12\n",
    "Y_12_1._select_df = sum_pop\n",
    "#Y_12_1.delete_base_rows1()\n",
    "#Y_12_1.delete_select_rows1()\n",
    "delete_join(Y_12_1)"
   ]
  }
 ],
 "metadata": {
  "kernelspec": {
   "display_name": "Python 3.9.12 ('base')",
   "language": "python",
   "name": "python3"
  },
  "language_info": {
   "codemirror_mode": {
    "name": "ipython",
    "version": 3
   },
   "file_extension": ".py",
   "mimetype": "text/x-python",
   "name": "python",
   "nbconvert_exporter": "python",
   "pygments_lexer": "ipython3",
   "version": "3.9.12"
  },
  "orig_nbformat": 4,
  "vscode": {
   "interpreter": {
    "hash": "40d3a090f54c6569ab1632332b64b2c03c39dcf918b08424e98f38b5ae0af88f"
   }
  }
 },
 "nbformat": 4,
 "nbformat_minor": 2
}
