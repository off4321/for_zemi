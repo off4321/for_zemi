{
  "nbformat": 4,
  "nbformat_minor": 0,
  "metadata": {
    "colab": {
      "provenance": [],
      "authorship_tag": "ABX9TyPt+rnUHsnBxBgKRkvVSYs/",
      "include_colab_link": true
    },
    "kernelspec": {
      "name": "python3",
      "display_name": "Python 3"
    },
    "language_info": {
      "name": "python"
    }
  },
  "cells": [
    {
      "cell_type": "markdown",
      "metadata": {
        "id": "view-in-github",
        "colab_type": "text"
      },
      "source": [
        "<a href=\"https://colab.research.google.com/github/off4321/for_zemi/blob/main/zemi_get_pop.ipynb\" target=\"_parent\"><img src=\"https://colab.research.google.com/assets/colab-badge.svg\" alt=\"Open In Colab\"/></a>"
      ]
    },
    {
      "cell_type": "code",
      "execution_count": 1,
      "metadata": {
        "colab": {
          "base_uri": "https://localhost:8080/"
        },
        "id": "dYnstyMKv385",
        "outputId": "6ce3b0b4-03ff-4c27-a7f1-05843c98ff89"
      },
      "outputs": [
        {
          "output_type": "stream",
          "name": "stdout",
          "text": [
            "Mounted at /content/drive\n"
          ]
        }
      ],
      "source": [
        "import pandas as pd\n",
        "import numpy as np\n",
        "from google.colab import drive\n",
        "drive.mount('/content/drive')"
      ]
    },
    {
      "cell_type": "code",
      "source": [
        "df = pd.read_csv(\"/content/drive/MyDrive/自分用/zemmiyou/卒論/データ/移動人口データ/編集データ(現在)/北海道all.csv\")"
      ],
      "metadata": {
        "id": "D8aJdFjrwp2T"
      },
      "execution_count": 6,
      "outputs": []
    },
    {
      "cell_type": "code",
      "source": [
        "df.head()"
      ],
      "metadata": {
        "colab": {
          "base_uri": "https://localhost:8080/",
          "height": 704
        },
        "id": "yeh7h6OSyE_Z",
        "outputId": "cf063c20-8baf-481b-97b7-034a5e0ceec4"
      },
      "execution_count": 7,
      "outputs": [
        {
          "output_type": "execute_result",
          "data": {
            "text/plain": [
              "   Column1       時間軸  移動後の住所地（現住地）2020〜 コード 移動後の住所地（現住地）2020〜     総数  0〜9歳  \\\n",
              "0        1  2021/1/1                   1100               札幌市  56986  4636   \n",
              "1        2  2021/1/1                   1101            札幌市中央区   8566   404   \n",
              "2        3  2021/1/1                   1102             札幌市北区   7276   791   \n",
              "3        4  2021/1/1                   1103             札幌市東区   7579   577   \n",
              "4        5  2021/1/1                   1104            札幌市白石区   6968   393   \n",
              "\n",
              "   10〜19歳  20〜29歳  30〜39歳  40〜49歳  50〜59歳  60歳以上  不詳/その他     loc        lat  \\\n",
              "0    2556   18984   12759    6342    3978   7731       0     札幌市  43.061771   \n",
              "1     373    3102    1792     973     671   1251       0  札幌市中央区  43.046848   \n",
              "2     312    2313    1634     850     496    880       0   札幌市北区  43.144873   \n",
              "3     371    2652    1681     832     531    935       0   札幌市東区  43.061771   \n",
              "4     272    2675    1475     772     517    864       0  札幌市白石区  43.062351   \n",
              "\n",
              "          lng  \n",
              "0  141.354451  \n",
              "1  141.322114  \n",
              "2  141.358562  \n",
              "3  141.354451  \n",
              "4  141.413278  "
            ],
            "text/html": [
              "\n",
              "  <div id=\"df-511d9cdd-ceb7-43cc-a0a6-cd482a700739\">\n",
              "    <div class=\"colab-df-container\">\n",
              "      <div>\n",
              "<style scoped>\n",
              "    .dataframe tbody tr th:only-of-type {\n",
              "        vertical-align: middle;\n",
              "    }\n",
              "\n",
              "    .dataframe tbody tr th {\n",
              "        vertical-align: top;\n",
              "    }\n",
              "\n",
              "    .dataframe thead th {\n",
              "        text-align: right;\n",
              "    }\n",
              "</style>\n",
              "<table border=\"1\" class=\"dataframe\">\n",
              "  <thead>\n",
              "    <tr style=\"text-align: right;\">\n",
              "      <th></th>\n",
              "      <th>Column1</th>\n",
              "      <th>時間軸</th>\n",
              "      <th>移動後の住所地（現住地）2020〜 コード</th>\n",
              "      <th>移動後の住所地（現住地）2020〜</th>\n",
              "      <th>総数</th>\n",
              "      <th>0〜9歳</th>\n",
              "      <th>10〜19歳</th>\n",
              "      <th>20〜29歳</th>\n",
              "      <th>30〜39歳</th>\n",
              "      <th>40〜49歳</th>\n",
              "      <th>50〜59歳</th>\n",
              "      <th>60歳以上</th>\n",
              "      <th>不詳/その他</th>\n",
              "      <th>loc</th>\n",
              "      <th>lat</th>\n",
              "      <th>lng</th>\n",
              "    </tr>\n",
              "  </thead>\n",
              "  <tbody>\n",
              "    <tr>\n",
              "      <th>0</th>\n",
              "      <td>1</td>\n",
              "      <td>2021/1/1</td>\n",
              "      <td>1100</td>\n",
              "      <td>札幌市</td>\n",
              "      <td>56986</td>\n",
              "      <td>4636</td>\n",
              "      <td>2556</td>\n",
              "      <td>18984</td>\n",
              "      <td>12759</td>\n",
              "      <td>6342</td>\n",
              "      <td>3978</td>\n",
              "      <td>7731</td>\n",
              "      <td>0</td>\n",
              "      <td>札幌市</td>\n",
              "      <td>43.061771</td>\n",
              "      <td>141.354451</td>\n",
              "    </tr>\n",
              "    <tr>\n",
              "      <th>1</th>\n",
              "      <td>2</td>\n",
              "      <td>2021/1/1</td>\n",
              "      <td>1101</td>\n",
              "      <td>札幌市中央区</td>\n",
              "      <td>8566</td>\n",
              "      <td>404</td>\n",
              "      <td>373</td>\n",
              "      <td>3102</td>\n",
              "      <td>1792</td>\n",
              "      <td>973</td>\n",
              "      <td>671</td>\n",
              "      <td>1251</td>\n",
              "      <td>0</td>\n",
              "      <td>札幌市中央区</td>\n",
              "      <td>43.046848</td>\n",
              "      <td>141.322114</td>\n",
              "    </tr>\n",
              "    <tr>\n",
              "      <th>2</th>\n",
              "      <td>3</td>\n",
              "      <td>2021/1/1</td>\n",
              "      <td>1102</td>\n",
              "      <td>札幌市北区</td>\n",
              "      <td>7276</td>\n",
              "      <td>791</td>\n",
              "      <td>312</td>\n",
              "      <td>2313</td>\n",
              "      <td>1634</td>\n",
              "      <td>850</td>\n",
              "      <td>496</td>\n",
              "      <td>880</td>\n",
              "      <td>0</td>\n",
              "      <td>札幌市北区</td>\n",
              "      <td>43.144873</td>\n",
              "      <td>141.358562</td>\n",
              "    </tr>\n",
              "    <tr>\n",
              "      <th>3</th>\n",
              "      <td>4</td>\n",
              "      <td>2021/1/1</td>\n",
              "      <td>1103</td>\n",
              "      <td>札幌市東区</td>\n",
              "      <td>7579</td>\n",
              "      <td>577</td>\n",
              "      <td>371</td>\n",
              "      <td>2652</td>\n",
              "      <td>1681</td>\n",
              "      <td>832</td>\n",
              "      <td>531</td>\n",
              "      <td>935</td>\n",
              "      <td>0</td>\n",
              "      <td>札幌市東区</td>\n",
              "      <td>43.061771</td>\n",
              "      <td>141.354451</td>\n",
              "    </tr>\n",
              "    <tr>\n",
              "      <th>4</th>\n",
              "      <td>5</td>\n",
              "      <td>2021/1/1</td>\n",
              "      <td>1104</td>\n",
              "      <td>札幌市白石区</td>\n",
              "      <td>6968</td>\n",
              "      <td>393</td>\n",
              "      <td>272</td>\n",
              "      <td>2675</td>\n",
              "      <td>1475</td>\n",
              "      <td>772</td>\n",
              "      <td>517</td>\n",
              "      <td>864</td>\n",
              "      <td>0</td>\n",
              "      <td>札幌市白石区</td>\n",
              "      <td>43.062351</td>\n",
              "      <td>141.413278</td>\n",
              "    </tr>\n",
              "  </tbody>\n",
              "</table>\n",
              "</div>\n",
              "      <button class=\"colab-df-convert\" onclick=\"convertToInteractive('df-511d9cdd-ceb7-43cc-a0a6-cd482a700739')\"\n",
              "              title=\"Convert this dataframe to an interactive table.\"\n",
              "              style=\"display:none;\">\n",
              "        \n",
              "  <svg xmlns=\"http://www.w3.org/2000/svg\" height=\"24px\"viewBox=\"0 0 24 24\"\n",
              "       width=\"24px\">\n",
              "    <path d=\"M0 0h24v24H0V0z\" fill=\"none\"/>\n",
              "    <path d=\"M18.56 5.44l.94 2.06.94-2.06 2.06-.94-2.06-.94-.94-2.06-.94 2.06-2.06.94zm-11 1L8.5 8.5l.94-2.06 2.06-.94-2.06-.94L8.5 2.5l-.94 2.06-2.06.94zm10 10l.94 2.06.94-2.06 2.06-.94-2.06-.94-.94-2.06-.94 2.06-2.06.94z\"/><path d=\"M17.41 7.96l-1.37-1.37c-.4-.4-.92-.59-1.43-.59-.52 0-1.04.2-1.43.59L10.3 9.45l-7.72 7.72c-.78.78-.78 2.05 0 2.83L4 21.41c.39.39.9.59 1.41.59.51 0 1.02-.2 1.41-.59l7.78-7.78 2.81-2.81c.8-.78.8-2.07 0-2.86zM5.41 20L4 18.59l7.72-7.72 1.47 1.35L5.41 20z\"/>\n",
              "  </svg>\n",
              "      </button>\n",
              "      \n",
              "  <style>\n",
              "    .colab-df-container {\n",
              "      display:flex;\n",
              "      flex-wrap:wrap;\n",
              "      gap: 12px;\n",
              "    }\n",
              "\n",
              "    .colab-df-convert {\n",
              "      background-color: #E8F0FE;\n",
              "      border: none;\n",
              "      border-radius: 50%;\n",
              "      cursor: pointer;\n",
              "      display: none;\n",
              "      fill: #1967D2;\n",
              "      height: 32px;\n",
              "      padding: 0 0 0 0;\n",
              "      width: 32px;\n",
              "    }\n",
              "\n",
              "    .colab-df-convert:hover {\n",
              "      background-color: #E2EBFA;\n",
              "      box-shadow: 0px 1px 2px rgba(60, 64, 67, 0.3), 0px 1px 3px 1px rgba(60, 64, 67, 0.15);\n",
              "      fill: #174EA6;\n",
              "    }\n",
              "\n",
              "    [theme=dark] .colab-df-convert {\n",
              "      background-color: #3B4455;\n",
              "      fill: #D2E3FC;\n",
              "    }\n",
              "\n",
              "    [theme=dark] .colab-df-convert:hover {\n",
              "      background-color: #434B5C;\n",
              "      box-shadow: 0px 1px 3px 1px rgba(0, 0, 0, 0.15);\n",
              "      filter: drop-shadow(0px 1px 2px rgba(0, 0, 0, 0.3));\n",
              "      fill: #FFFFFF;\n",
              "    }\n",
              "  </style>\n",
              "\n",
              "      <script>\n",
              "        const buttonEl =\n",
              "          document.querySelector('#df-511d9cdd-ceb7-43cc-a0a6-cd482a700739 button.colab-df-convert');\n",
              "        buttonEl.style.display =\n",
              "          google.colab.kernel.accessAllowed ? 'block' : 'none';\n",
              "\n",
              "        async function convertToInteractive(key) {\n",
              "          const element = document.querySelector('#df-511d9cdd-ceb7-43cc-a0a6-cd482a700739');\n",
              "          const dataTable =\n",
              "            await google.colab.kernel.invokeFunction('convertToInteractive',\n",
              "                                                     [key], {});\n",
              "          if (!dataTable) return;\n",
              "\n",
              "          const docLinkHtml = 'Like what you see? Visit the ' +\n",
              "            '<a target=\"_blank\" href=https://colab.research.google.com/notebooks/data_table.ipynb>data table notebook</a>'\n",
              "            + ' to learn more about interactive tables.';\n",
              "          element.innerHTML = '';\n",
              "          dataTable['output_type'] = 'display_data';\n",
              "          await google.colab.output.renderOutput(dataTable, element);\n",
              "          const docLink = document.createElement('div');\n",
              "          docLink.innerHTML = docLinkHtml;\n",
              "          element.appendChild(docLink);\n",
              "        }\n",
              "      </script>\n",
              "    </div>\n",
              "  </div>\n",
              "  "
            ]
          },
          "metadata": {},
          "execution_count": 7
        }
      ]
    },
    {
      "cell_type": "code",
      "source": [
        "japan = pd.read_csv(\"/content/drive/MyDrive/自分用/zemmiyou/卒論/データ/移動人口データ/元データ/日本人口.csv\", encoding = \"shift_jis\")"
      ],
      "metadata": {
        "id": "CtZl4cpPyGhr"
      },
      "execution_count": 15,
      "outputs": []
    },
    {
      "cell_type": "code",
      "source": [
        "japan.head()"
      ],
      "metadata": {
        "colab": {
          "base_uri": "https://localhost:8080/",
          "height": 285
        },
        "id": "WKNX9UsEz0h0",
        "outputId": "3abd090f-d507-43ed-c62d-1acf15d5b29f"
      },
      "execution_count": 16,
      "outputs": [
        {
          "output_type": "execute_result",
          "data": {
            "text/plain": [
              "   時間軸（年次） コード 時間軸（年次） 全国，都道府県，市区町村（2000年市区町村含む） コード  \\\n",
              "0   2020000000   2020年                             0   \n",
              "1   2020000000   2020年                          1000   \n",
              "2   2020000000   2020年                          1100   \n",
              "3   2020000000   2020年                          1101   \n",
              "4   2020000000   2020年                          1102   \n",
              "\n",
              "  全国，都道府県，市区町村（2000年市区町村含む）  /男女           総数           男           女  \n",
              "0                        全国  NaN  126,146,099  61,349,581  64,796,518  \n",
              "1                       北海道  NaN    5,224,614   2,465,088   2,759,526  \n",
              "2                       札幌市  NaN    1,973,395     918,682   1,054,713  \n",
              "3                    札幌市中央区  NaN      248,680     112,853     135,827  \n",
              "4                     札幌市北区  NaN      289,323     136,596     152,727  "
            ],
            "text/html": [
              "\n",
              "  <div id=\"df-d5402d4b-2518-40e9-a4a2-6fdc3a224d3b\">\n",
              "    <div class=\"colab-df-container\">\n",
              "      <div>\n",
              "<style scoped>\n",
              "    .dataframe tbody tr th:only-of-type {\n",
              "        vertical-align: middle;\n",
              "    }\n",
              "\n",
              "    .dataframe tbody tr th {\n",
              "        vertical-align: top;\n",
              "    }\n",
              "\n",
              "    .dataframe thead th {\n",
              "        text-align: right;\n",
              "    }\n",
              "</style>\n",
              "<table border=\"1\" class=\"dataframe\">\n",
              "  <thead>\n",
              "    <tr style=\"text-align: right;\">\n",
              "      <th></th>\n",
              "      <th>時間軸（年次） コード</th>\n",
              "      <th>時間軸（年次）</th>\n",
              "      <th>全国，都道府県，市区町村（2000年市区町村含む） コード</th>\n",
              "      <th>全国，都道府県，市区町村（2000年市区町村含む）</th>\n",
              "      <th>/男女</th>\n",
              "      <th>総数</th>\n",
              "      <th>男</th>\n",
              "      <th>女</th>\n",
              "    </tr>\n",
              "  </thead>\n",
              "  <tbody>\n",
              "    <tr>\n",
              "      <th>0</th>\n",
              "      <td>2020000000</td>\n",
              "      <td>2020年</td>\n",
              "      <td>0</td>\n",
              "      <td>全国</td>\n",
              "      <td>NaN</td>\n",
              "      <td>126,146,099</td>\n",
              "      <td>61,349,581</td>\n",
              "      <td>64,796,518</td>\n",
              "    </tr>\n",
              "    <tr>\n",
              "      <th>1</th>\n",
              "      <td>2020000000</td>\n",
              "      <td>2020年</td>\n",
              "      <td>1000</td>\n",
              "      <td>北海道</td>\n",
              "      <td>NaN</td>\n",
              "      <td>5,224,614</td>\n",
              "      <td>2,465,088</td>\n",
              "      <td>2,759,526</td>\n",
              "    </tr>\n",
              "    <tr>\n",
              "      <th>2</th>\n",
              "      <td>2020000000</td>\n",
              "      <td>2020年</td>\n",
              "      <td>1100</td>\n",
              "      <td>札幌市</td>\n",
              "      <td>NaN</td>\n",
              "      <td>1,973,395</td>\n",
              "      <td>918,682</td>\n",
              "      <td>1,054,713</td>\n",
              "    </tr>\n",
              "    <tr>\n",
              "      <th>3</th>\n",
              "      <td>2020000000</td>\n",
              "      <td>2020年</td>\n",
              "      <td>1101</td>\n",
              "      <td>札幌市中央区</td>\n",
              "      <td>NaN</td>\n",
              "      <td>248,680</td>\n",
              "      <td>112,853</td>\n",
              "      <td>135,827</td>\n",
              "    </tr>\n",
              "    <tr>\n",
              "      <th>4</th>\n",
              "      <td>2020000000</td>\n",
              "      <td>2020年</td>\n",
              "      <td>1102</td>\n",
              "      <td>札幌市北区</td>\n",
              "      <td>NaN</td>\n",
              "      <td>289,323</td>\n",
              "      <td>136,596</td>\n",
              "      <td>152,727</td>\n",
              "    </tr>\n",
              "  </tbody>\n",
              "</table>\n",
              "</div>\n",
              "      <button class=\"colab-df-convert\" onclick=\"convertToInteractive('df-d5402d4b-2518-40e9-a4a2-6fdc3a224d3b')\"\n",
              "              title=\"Convert this dataframe to an interactive table.\"\n",
              "              style=\"display:none;\">\n",
              "        \n",
              "  <svg xmlns=\"http://www.w3.org/2000/svg\" height=\"24px\"viewBox=\"0 0 24 24\"\n",
              "       width=\"24px\">\n",
              "    <path d=\"M0 0h24v24H0V0z\" fill=\"none\"/>\n",
              "    <path d=\"M18.56 5.44l.94 2.06.94-2.06 2.06-.94-2.06-.94-.94-2.06-.94 2.06-2.06.94zm-11 1L8.5 8.5l.94-2.06 2.06-.94-2.06-.94L8.5 2.5l-.94 2.06-2.06.94zm10 10l.94 2.06.94-2.06 2.06-.94-2.06-.94-.94-2.06-.94 2.06-2.06.94z\"/><path d=\"M17.41 7.96l-1.37-1.37c-.4-.4-.92-.59-1.43-.59-.52 0-1.04.2-1.43.59L10.3 9.45l-7.72 7.72c-.78.78-.78 2.05 0 2.83L4 21.41c.39.39.9.59 1.41.59.51 0 1.02-.2 1.41-.59l7.78-7.78 2.81-2.81c.8-.78.8-2.07 0-2.86zM5.41 20L4 18.59l7.72-7.72 1.47 1.35L5.41 20z\"/>\n",
              "  </svg>\n",
              "      </button>\n",
              "      \n",
              "  <style>\n",
              "    .colab-df-container {\n",
              "      display:flex;\n",
              "      flex-wrap:wrap;\n",
              "      gap: 12px;\n",
              "    }\n",
              "\n",
              "    .colab-df-convert {\n",
              "      background-color: #E8F0FE;\n",
              "      border: none;\n",
              "      border-radius: 50%;\n",
              "      cursor: pointer;\n",
              "      display: none;\n",
              "      fill: #1967D2;\n",
              "      height: 32px;\n",
              "      padding: 0 0 0 0;\n",
              "      width: 32px;\n",
              "    }\n",
              "\n",
              "    .colab-df-convert:hover {\n",
              "      background-color: #E2EBFA;\n",
              "      box-shadow: 0px 1px 2px rgba(60, 64, 67, 0.3), 0px 1px 3px 1px rgba(60, 64, 67, 0.15);\n",
              "      fill: #174EA6;\n",
              "    }\n",
              "\n",
              "    [theme=dark] .colab-df-convert {\n",
              "      background-color: #3B4455;\n",
              "      fill: #D2E3FC;\n",
              "    }\n",
              "\n",
              "    [theme=dark] .colab-df-convert:hover {\n",
              "      background-color: #434B5C;\n",
              "      box-shadow: 0px 1px 3px 1px rgba(0, 0, 0, 0.15);\n",
              "      filter: drop-shadow(0px 1px 2px rgba(0, 0, 0, 0.3));\n",
              "      fill: #FFFFFF;\n",
              "    }\n",
              "  </style>\n",
              "\n",
              "      <script>\n",
              "        const buttonEl =\n",
              "          document.querySelector('#df-d5402d4b-2518-40e9-a4a2-6fdc3a224d3b button.colab-df-convert');\n",
              "        buttonEl.style.display =\n",
              "          google.colab.kernel.accessAllowed ? 'block' : 'none';\n",
              "\n",
              "        async function convertToInteractive(key) {\n",
              "          const element = document.querySelector('#df-d5402d4b-2518-40e9-a4a2-6fdc3a224d3b');\n",
              "          const dataTable =\n",
              "            await google.colab.kernel.invokeFunction('convertToInteractive',\n",
              "                                                     [key], {});\n",
              "          if (!dataTable) return;\n",
              "\n",
              "          const docLinkHtml = 'Like what you see? Visit the ' +\n",
              "            '<a target=\"_blank\" href=https://colab.research.google.com/notebooks/data_table.ipynb>data table notebook</a>'\n",
              "            + ' to learn more about interactive tables.';\n",
              "          element.innerHTML = '';\n",
              "          dataTable['output_type'] = 'display_data';\n",
              "          await google.colab.output.renderOutput(dataTable, element);\n",
              "          const docLink = document.createElement('div');\n",
              "          docLink.innerHTML = docLinkHtml;\n",
              "          element.appendChild(docLink);\n",
              "        }\n",
              "      </script>\n",
              "    </div>\n",
              "  </div>\n",
              "  "
            ]
          },
          "metadata": {},
          "execution_count": 16
        }
      ]
    },
    {
      "cell_type": "code",
      "source": [
        "japan[\"市区町村\"] = df[\"移動後の住所地（現住地）2020〜\"]"
      ],
      "metadata": {
        "id": "umkLlOCY1QLz"
      },
      "execution_count": 17,
      "outputs": []
    },
    {
      "cell_type": "code",
      "source": [
        "loc = []\n",
        "all = []\n",
        "male = []\n",
        "female = []\n",
        "\n",
        "for i in range(df.shape[0]+1):\n",
        "  if (japan[\"市区町村\"][i] == japan['全国，都道府県，市区町村（2000年市区町村含む）']).any():\n",
        "    loc.extend(japan[\"全国，都道府県，市区町村（2000年市区町村含む）\"][japan[\"全国，都道府県，市区町村（2000年市区町村含む）\"] == japan[\"市区町村\"][i]])\n",
        "    all.extend(japan[\"総数\"][japan[\"全国，都道府県，市区町村（2000年市区町村含む）\"] == japan[\"市区町村\"][i]])\n",
        "    male.extend(japan[\"男\"][japan[\"全国，都道府県，市区町村（2000年市区町村含む）\"] == japan[\"市区町村\"][i]])\n",
        "    female.extend(japan[\"女\"][japan[\"全国，都道府県，市区町村（2000年市区町村含む）\"] == japan[\"市区町村\"][i]])\n",
        "  else:\n",
        "    loc.append(\"0\")\n",
        "    all.append(\"0\")\n",
        "    male.append(\"0\")\n",
        "    female.append(\"0\")\n"
      ],
      "metadata": {
        "id": "WQj5BKxq3S3e"
      },
      "execution_count": 82,
      "outputs": []
    },
    {
      "cell_type": "code",
      "source": [
        "new_df = pd.DataFrame({\"市区町村\":loc, \"総数\":all, \"男性\":male, \"女性\":female})"
      ],
      "metadata": {
        "id": "AJbimUQrGm9X"
      },
      "execution_count": 83,
      "outputs": []
    },
    {
      "cell_type": "code",
      "source": [
        "new_df_0 = new_df.index[new_df[\"市区町村\"] == \"0\"]\n",
        "new_df1 = new_df.drop(new_df_0)"
      ],
      "metadata": {
        "id": "fAI1vOfHHf_f"
      },
      "execution_count": 86,
      "outputs": []
    },
    {
      "cell_type": "code",
      "source": [
        "print(new_df1.shape[0])\n",
        "print(df.shape[0])"
      ],
      "metadata": {
        "colab": {
          "base_uri": "https://localhost:8080/"
        },
        "id": "c2w9tQPZILJh",
        "outputId": "024aa58e-b5da-4e41-9bbf-36423895ee78"
      },
      "execution_count": 69,
      "outputs": [
        {
          "output_type": "stream",
          "name": "stdout",
          "text": [
            "589\n",
            "580\n"
          ]
        }
      ]
    },
    {
      "cell_type": "code",
      "source": [
        "print(new_df1.duplicated([\"市区町村\"]).sum())\n",
        "print(new_df1[new_df1[\"市区町村\"].duplicated()])"
      ],
      "metadata": {
        "colab": {
          "base_uri": "https://localhost:8080/"
        },
        "id": "M3Hc2erRI7H0",
        "outputId": "e82acc99-1bdc-429a-d756-24c720b788c1"
      },
      "execution_count": 88,
      "outputs": [
        {
          "output_type": "stream",
          "name": "stdout",
          "text": [
            "9\n",
            "    市区町村      総数      男性      女性\n",
            "40   伊達市  58,240  28,313  29,927\n",
            "47   松前町  29,630  13,911  15,719\n",
            "52    森町  17,457   8,699   8,758\n",
            "120  日高町   7,673   3,657   4,016\n",
            "131  清水町  31,710  15,388  16,322\n",
            "137  池田町   2,423   1,196   1,227\n",
            "138  池田町   9,382   4,552   4,830\n",
            "139  池田町  23,360  11,425  11,935\n",
            "314  府中市  37,655  18,115  19,540\n"
          ]
        }
      ]
    },
    {
      "cell_type": "code",
      "source": [
        "new_df1_dropped = new_df1.drop_duplicates([\"市区町村\"])"
      ],
      "metadata": {
        "id": "cOpI7SErJoBH"
      },
      "execution_count": 89,
      "outputs": []
    },
    {
      "cell_type": "code",
      "source": [
        "new_df1_dropped = new_df1_dropped.reset_index(drop = True)"
      ],
      "metadata": {
        "id": "k2_sRqwsPrvt"
      },
      "execution_count": 91,
      "outputs": []
    },
    {
      "cell_type": "code",
      "source": [
        "new_df1_dropped[\"確認市区町村\"] = df[\"移動後の住所地（現住地）2020〜\"]"
      ],
      "metadata": {
        "id": "a5vflO76J2un"
      },
      "execution_count": 93,
      "outputs": []
    },
    {
      "cell_type": "code",
      "source": [
        "new_df1_dropped[new_df1_dropped[\"確認市区町村\"] == new_df1_dropped[\"市区町村\"]].shape[0]"
      ],
      "metadata": {
        "colab": {
          "base_uri": "https://localhost:8080/"
        },
        "id": "X31cSgRwK2oj",
        "outputId": "4ec1f9ef-de6d-4818-b736-77f53535d692"
      },
      "execution_count": 95,
      "outputs": [
        {
          "output_type": "execute_result",
          "data": {
            "text/plain": [
              "580"
            ]
          },
          "metadata": {},
          "execution_count": 95
        }
      ]
    }
  ]
}